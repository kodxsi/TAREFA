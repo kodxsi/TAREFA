{
  "cells": [
    {
      "cell_type": "markdown",
      "metadata": {
        "id": "view-in-github",
        "colab_type": "text"
      },
      "source": [
        "<a href=\"https://colab.research.google.com/github/kodxsi/TAREFA/blob/main/Tarefa_de_tarefa_de_desenvolvimento_r%C3%A1pido_Python.ipynb\" target=\"_parent\"><img src=\"https://colab.research.google.com/assets/colab-badge.svg\" alt=\"Open In Colab\"/></a>"
      ]
    },
    {
      "cell_type": "markdown",
      "source": [
        "### **CALCULADORA SIMPLES**"
      ],
      "metadata": {
        "id": "OPgujdX5eD_d"
      }
    },
    {
      "cell_type": "code",
      "source": [
        "#Menu\n",
        "op = int(input(\"1. Soma \\n 2. Subtração \\n 3. Multiplicação \\n 4. Divisão \\n Escolha uma opção: \"))\n",
        "\n",
        "num1 = int(input(\"Insira o primeiro valor: \"))\n",
        "num2 = int(input(\"Insira o segundo valor: \"))\n",
        "\n",
        "if op == 1:\n",
        "  resultado = num1 + num2\n",
        "  print(\"O resultado é:\",resultado)\n",
        "elif op == 2:\n",
        "  resultado = num1 - num2\n",
        "  print(\"O resultado é:\",resultado)\n",
        "elif op == 3:\n",
        "  resultado = num1 * num2\n",
        "  print(\"O resultado é:\",resultado)\n",
        "elif op == 4:\n",
        "  resultado = num1 / num2\n",
        "  print(\"O resultado é: \",resultado)"
      ],
      "metadata": {
        "id": "h3ybQEAOHPti",
        "outputId": "ace95753-0eff-4899-be9c-25ec83185718",
        "colab": {
          "base_uri": "https://localhost:8080/"
        }
      },
      "execution_count": null,
      "outputs": [
        {
          "output_type": "stream",
          "name": "stdout",
          "text": [
            "1. Soma \n",
            " 2. Subtração \n",
            " 3. Multiplicação \n",
            " 4. Divisão \n",
            " Escolha uma opção: 2\n",
            "Insira o primeiro valor: 2\n",
            "Insira o segundo valor: 2\n",
            "O resultado é: 0\n"
          ]
        }
      ]
    },
    {
      "cell_type": "markdown",
      "source": [
        "### **JOGO DA FORCA**"
      ],
      "metadata": {
        "id": "MdA8XQpnPdzy"
      }
    },
    {
      "cell_type": "code",
      "source": [
        "import random\n",
        "\n",
        "def escolher_palavra():\n",
        "    palavras = ['python', 'caneta', 'jogo', 'faculdade', 'paralelepipedo']\n",
        "    return random.choice(palavras)\n",
        "\n",
        "def mostrar_palavra(palavra, letras_corretas):\n",
        "    return ' '.join([letra if letra in letras_corretas else '_' for letra in palavra])\n",
        "\n",
        "def jogo_da_forca():\n",
        "    palavra = escolher_palavra()\n",
        "    letras_corretas = set()\n",
        "    letras_erradas = set()\n",
        "    tentativas = 10\n",
        "\n",
        "    print(\"Bem-vindo ao jogo da forca!\")\n",
        "\n",
        "    while tentativas > 0:\n",
        "        print(\"\\nPalavra:\", mostrar_palavra(palavra, letras_corretas))\n",
        "        print(\"Letras erradas:\", ' '.join(letras_erradas))\n",
        "        print(f\"Tentativas restantes: {tentativas}\")\n",
        "\n",
        "        tentativa = input(\"Adivinhe uma letra: \").lower()\n",
        "\n",
        "        if tentativa in letras_corretas or tentativa in letras_erradas:\n",
        "            print(\"Você já tentou essa letra.\")\n",
        "            continue\n",
        "\n",
        "        if tentativa in palavra:\n",
        "            letras_corretas.add(tentativa)\n",
        "            print(\"Boa! A letra está na palavra.\")\n",
        "        else:\n",
        "            letras_erradas.add(tentativa)\n",
        "            tentativas -= 1\n",
        "            print(\"A letra não está na palavra.\")\n",
        "\n",
        "        if set(palavra) == letras_corretas:\n",
        "            print(f\"Parabéns! Você ganhou! A palavra era: {palavra}\")\n",
        "            break\n",
        "    else:\n",
        "        print(f\"Você perdeu! A palavra era: {palavra}\")\n",
        "\n",
        "if __name__ == \"__main__\":\n",
        "    jogo_da_forca()"
      ],
      "metadata": {
        "id": "17tKgrC4Pq3w"
      },
      "execution_count": null,
      "outputs": []
    },
    {
      "cell_type": "markdown",
      "source": [
        "### **CONVERSOR DE UNIDADES**"
      ],
      "metadata": {
        "id": "4Syz-sOrW8JB"
      }
    },
    {
      "cell_type": "code",
      "source": [
        "#Menu\n",
        "op = int(input(\"1. CM para Metros \\n 2. Celsius para Fahrenheit \\n Escolha uma opção: \"))\n",
        "\n",
        "if op == 1:\n",
        " metro = float(input(\"Informe um valor em metros: \"))\n",
        " resultado = metro * 100\n",
        " print(metro,\"m equivale a\", resultado,\"cm\")\n",
        "\n",
        "elif op == 2:\n",
        "    c = float(input(\"Informe a temperatura em °C: \"))\n",
        "    f = ((9 * c) / 5) + 32\n",
        "    print(\"A temperatura de {:.1f}°C corresponde a {:.1f}°F\".format(c, f))"
      ],
      "metadata": {
        "id": "PlkTlzAKXIys",
        "outputId": "1c8bb88f-fe02-40ef-b0f6-6b38f26868ea",
        "colab": {
          "base_uri": "https://localhost:8080/"
        }
      },
      "execution_count": null,
      "outputs": [
        {
          "output_type": "stream",
          "name": "stdout",
          "text": [
            "1. CM para Metros \n",
            " 2. Celsius para Fahrenheit \n",
            " Escolha uma opção: 2\n",
            "Informe a temperatura em °C: 40\n",
            "A temperatura de 40.0°C corresponde a 104.0°F\n"
          ]
        }
      ]
    }
  ],
  "metadata": {
    "colab": {
      "toc_visible": true,
      "provenance": [],
      "include_colab_link": true
    },
    "kernelspec": {
      "display_name": "Python 3",
      "name": "python3"
    }
  },
  "nbformat": 4,
  "nbformat_minor": 0
}